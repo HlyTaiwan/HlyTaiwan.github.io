{
 "cells": [
  {
   "cell_type": "markdown",
   "metadata": {},
   "source": [
    "# Step 0: Initialization"
   ]
  },
  {
   "cell_type": "code",
   "execution_count": 17,
   "metadata": {},
   "outputs": [],
   "source": [
    "! git config --global user.name \"Hao-Lin Yeh\"\n",
    "! git config --global user.email r11323045@ntu.edu.tw"
   ]
  },
  {
   "cell_type": "markdown",
   "metadata": {},
   "source": [
    "# Step 1: Web Crawling"
   ]
  },
  {
   "cell_type": "code",
   "execution_count": 18,
   "metadata": {},
   "outputs": [],
   "source": [
    "import requests\n",
    "import time\n",
    "import math\n",
    "from bs4 import BeautifulSoup\n",
    "import pandas as pd"
   ]
  },
  {
   "cell_type": "code",
   "execution_count": 19,
   "metadata": {},
   "outputs": [],
   "source": [
    "def crawler(url):\n",
    "    # 讓程式暫停2秒，不要讓booking覺得我們在攻擊他們\n",
    "    time.sleep(2)\n",
    "\n",
    "    headers = {\n",
    "    #User-Agent的值表示這個請求是由Chrome 51瀏覽器（User-Agent字符串中的信息）發送，而且是在一個Chrome OS x86_64的環境下\n",
    "    'User-Agent': 'Mozilla/5.0 (X11; CrOS x86_64 8172.45.0) AppleWebKit/537.36 (KHTML, like Gecko) Chrome/51.0.2704.64 Safari/537.36',\n",
    "    #表示使用者首選的語言是美式英文（en-US），優先權為0.5。\n",
    "    #若伺服器能夠提供美式英文內容，就會優先返回該內容，如果不行，則默認使用一般的英文內容（en）\n",
    "    'Accept-Language': 'en-US, en;q=0.5'}\n",
    "    # Reference\n",
    "    # https://medium.com/@tetianakushniruk/web-scraping-booking-com-with-beautiful-soup-for-hotel-data-analysis-95f874820c18\n",
    "    # https://www.zenrows.com/blog/python-requests-user-agent#what-is\n",
    "    \n",
    "    # 訪問該網站\n",
    "    response  = requests.get(url, headers=headers)\n",
    "    # 解析網站內容\n",
    "    soup = BeautifulSoup(response.text, 'html.parser')\n",
    "    \n",
    "    return soup"
   ]
  },
  {
   "cell_type": "code",
   "execution_count": 20,
   "metadata": {},
   "outputs": [],
   "source": [
    "def find_value(hotel, tag, class_):\n",
    "    try:\n",
    "        # hotel是soup抓下來的內容，找他的文字檔\n",
    "        # tag和class_是在讀取html文字檔中用到的東西\n",
    "        txt = hotel.find(tag, class_).text\n",
    "    except AttributeError:\n",
    "        # 有時候某間旅館可能沒有全部資料，這時直接設成None，之後再清掉\n",
    "        txt = None\n",
    "    return txt"
   ]
  },
  {
   "cell_type": "code",
   "execution_count": 21,
   "metadata": {},
   "outputs": [],
   "source": [
    "def booking(location, check_in_date, check_out_date):\n",
    "    # location是我們要的旅館所在地，check_in_date, check_out_date分別是住宿和退宿日期\n",
    "    \n",
    "    # 先找到有幾家旅館\n",
    "    first_page_url = f'https://www.booking.com/searchresults.zh-tw.html?ss={location}&ssne={location}&ssne_untouched={location}&label=gen173nr-1BCAEoggI46AdIM1gEaOcBiAEBmAEwuAEXyAEM2AEB6AEBiAIBqAIDuAK2yuuqBsACAdICJDUyY2M5OTkzLTRhMmItNDZmNS04MDI1LWFlMzRiNzZlMzlhMNgCBeACAQ&sid=eaa1f2af7556a3de60c00d3cf49ff2df&aid=304142&lang=zh-tw&sb=1&src_elem=sb&src=searchresults&dest_type=city&checkin={check_in_date}&checkout={check_out_date}&group_adults=2&no_rooms=1&group_children=0'\n",
    "    first_page_soup = crawler(first_page_url)\n",
    "    # 找到旅館總數\n",
    "    hotel_numbers = first_page_soup.find('div', class_='efdb2b543b e4b7a69a57').text.lstrip(f'{location}：找到 ').rstrip(' 間住宿')\n",
    "    # 一頁會顯示25家旅館，以旅館總數算取頁數\n",
    "    pages = math.ceil(int(hotel_numbers) / 25) \n",
    "\n",
    "    #先設6個空的list，用來裝資料\n",
    "    name, address, price, rating, distance, comment = [],[],[],[],[],[]\n",
    "    for page in range(pages):\n",
    "        url = f'https://www.booking.com/searchresults.zh-tw.html?ss={location}&ssne={location}&ssne_untouched={location}&label=gen173nr-1BCAEoggI46AdIM1gEaOcBiAEBmAEwuAEXyAEM2AEB6AEBiAIBqAIDuAK2yuuqBsACAdICJDUyY2M5OTkzLTRhMmItNDZmNS04MDI1LWFlMzRiNzZlMzlhMNgCBeACAQ&sid=eaa1f2af7556a3de60c00d3cf49ff2df&aid=304142&lang=zh-tw&sb=1&src_elem=sb&src=searchresults&dest_type=city&checkin={check_in_date}&checkout={check_out_date}&group_adults=2&no_rooms=1&group_children=0&offset={page*25}'\n",
    "        soup = crawler(url)\n",
    "        # 過濾其他內容，找到該頁全部的旅館資訊\n",
    "        hotels = soup.find_all('div', class_ = 'c82435a4b8 a178069f51 a6ae3c2b40 a18aeea94d d794b7a0f7 f53e278e95 c6710787a4')\n",
    "        for hotel in hotels:\n",
    "            # 把需要資料加進list\n",
    "            name.append(find_value(hotel, 'div', 'f6431b446c a15b38c233'))\n",
    "            address.append(find_value(hotel, 'span', 'aee5343fdb def9bc142a'))\n",
    "            price.append(find_value(hotel, 'span', 'f6431b446c fbfd7c1165 e84eb96b1f'))\n",
    "            rating.append(find_value(hotel,'div','a3b8729ab1 d86cee9b25'))\n",
    "            comment.append(find_value(hotel, 'div', 'a3b8729ab1 e6208ee469 cb2cbb3ccb'))\n",
    "\n",
    "            # 有其他資料和distance共用同樣的tag和class，要先過濾掉\n",
    "            for_distance = hotel.find_all('span', class_='aee5343fdb')[2]\n",
    "            distance.append(find_value(for_distance, 'span', 'f419a93f12'))\n",
    "\n",
    "    #把爬完的資料裝進DataFrame裡面\n",
    "    df = pd.DataFrame({\n",
    "        'name':name,\n",
    "        'location':address,\n",
    "        'price':price,\n",
    "        'rating':rating,\n",
    "        'distance':distance,\n",
    "        'comment':comment})\n",
    "    return df"
   ]
  },
  {
   "cell_type": "code",
   "execution_count": 22,
   "metadata": {},
   "outputs": [],
   "source": [
    "# 檢查用code\n",
    "#df = booking('台北', '2023-11-25', '2023-11-26')"
   ]
  },
  {
   "cell_type": "code",
   "execution_count": 23,
   "metadata": {},
   "outputs": [],
   "source": [
    "# 檢查抓下來的內容\n",
    "#len(df)"
   ]
  },
  {
   "cell_type": "code",
   "execution_count": 24,
   "metadata": {},
   "outputs": [],
   "source": [
    "# 檢查是否有NA，等一下直接刪掉\n",
    "# df.isna().any()"
   ]
  },
  {
   "cell_type": "markdown",
   "metadata": {},
   "source": [
    "# Step 2: Data Cleaning"
   ]
  },
  {
   "cell_type": "code",
   "execution_count": 25,
   "metadata": {},
   "outputs": [],
   "source": [
    "#參考作業一助教的code\n",
    "def clean(df):\n",
    "    # 把沒有資料的row直接刪掉，重設index\n",
    "    df = df.dropna().reset_index(drop=True)\n",
    "\n",
    "    #把price前面的TWD刪掉，並把價格中間的','刪掉，最後轉成float\n",
    "    df['price'] = df['price'].str.replace('TWD', '').str.replace(',', '').astype(float)\n",
    "    #把rating轉成float\n",
    "    df['rating'] = df['rating'].astype(float)\n",
    "    \n",
    "    #剛好我們要的數字前後都有空格，以空格區隔\n",
    "    def convert_distance(distance_s):\n",
    "        if '公尺' in distance_s:\n",
    "            distance = float(distance_s.split(' ')[1]) / 1000\n",
    "        elif '公里' in distance_s:\n",
    "            distance = float(distance_s.split(' ')[1])\n",
    "        else:\n",
    "            distance = None\n",
    "        return distance\n",
    "    df['distance'] = df['distance'].apply(convert_distance).astype(float)\n",
    "\n",
    "    # 再清一次NA資料\n",
    "    df = df.dropna().reset_index(drop=True)\n",
    "    return df"
   ]
  },
  {
   "cell_type": "markdown",
   "metadata": {},
   "source": [
    "# Step 3: Data Visualization"
   ]
  },
  {
   "cell_type": "code",
   "execution_count": 26,
   "metadata": {},
   "outputs": [],
   "source": [
    "import plotly.express as px"
   ]
  },
  {
   "cell_type": "code",
   "execution_count": 27,
   "metadata": {},
   "outputs": [],
   "source": [
    "def draw(df):\n",
    "    # 把DataFrame中的資料匯出圖片，橫軸為price，縱軸為rating，以rating做顏色區分\n",
    "    # 滑鼠移到點上可以顯示name、price、distance和rating\n",
    "    fig = px.scatter(df, x='price', y='distance', color='rating', hover_name='name',\n",
    "                    title = 'Hotel price and Distance Scatter Plot')\n",
    "    return fig"
   ]
  },
  {
   "cell_type": "markdown",
   "metadata": {},
   "source": [
    "# Step 4 Dash Application"
   ]
  },
  {
   "cell_type": "code",
   "execution_count": 28,
   "metadata": {},
   "outputs": [],
   "source": [
    "from datetime import date, datetime, timedelta\n",
    "from dash import Dash, dcc, html, Input, Output, callback"
   ]
  },
  {
   "cell_type": "code",
   "execution_count": 29,
   "metadata": {},
   "outputs": [
    {
     "data": {
      "text/html": [
       "\n",
       "        <iframe\n",
       "            width=\"100%\"\n",
       "            height=\"650\"\n",
       "            src=\"http://127.0.0.1:8050/\"\n",
       "            frameborder=\"0\"\n",
       "            allowfullscreen\n",
       "            \n",
       "        ></iframe>\n",
       "        "
      ],
      "text/plain": [
       "<IPython.lib.display.IFrame at 0x22891d06810>"
      ]
     },
     "metadata": {},
     "output_type": "display_data"
    },
    {
     "name": "stdout",
     "output_type": "stream",
     "text": [
      "\u001b[1;31m---------------------------------------------------------------------------\u001b[0m\n",
      "\u001b[1;31mUnboundLocalError\u001b[0m                         Traceback (most recent call last)\n",
      "\u001b[1;31mUnboundLocalError\u001b[0m: cannot access local variable 'fig' where it is not associated with a value\n",
      "\n",
      "\u001b[1;31m---------------------------------------------------------------------------\u001b[0m\n",
      "\u001b[1;31mUnboundLocalError\u001b[0m                         Traceback (most recent call last)\n",
      "\u001b[1;31mUnboundLocalError\u001b[0m: cannot access local variable 'fig' where it is not associated with a value\n",
      "\n",
      "\u001b[1;31m---------------------------------------------------------------------------\u001b[0m\n",
      "\u001b[1;31mUnboundLocalError\u001b[0m                         Traceback (most recent call last)\n",
      "\u001b[1;31mUnboundLocalError\u001b[0m: cannot access local variable 'fig' where it is not associated with a value\n",
      "\n",
      "\u001b[1;31m---------------------------------------------------------------------------\u001b[0m\n",
      "\u001b[1;31mUnboundLocalError\u001b[0m                         Traceback (most recent call last)\n",
      "\u001b[1;31mUnboundLocalError\u001b[0m: cannot access local variable 'fig' where it is not associated with a value\n",
      "\n",
      "\u001b[1;31m---------------------------------------------------------------------------\u001b[0m\n",
      "\u001b[1;31mUnboundLocalError\u001b[0m                         Traceback (most recent call last)\n",
      "\u001b[1;31mUnboundLocalError\u001b[0m: cannot access local variable 'fig' where it is not associated with a value\n",
      "\n",
      "\u001b[1;31m---------------------------------------------------------------------------\u001b[0m\n",
      "\u001b[1;31mUnboundLocalError\u001b[0m                         Traceback (most recent call last)\n",
      "\u001b[1;31mUnboundLocalError\u001b[0m: cannot access local variable 'fig' where it is not associated with a value\n",
      "\n",
      "\u001b[1;31m---------------------------------------------------------------------------\u001b[0m\n",
      "\u001b[1;31mUnboundLocalError\u001b[0m                         Traceback (most recent call last)\n",
      "\u001b[1;31mUnboundLocalError\u001b[0m: cannot access local variable 'fig' where it is not associated with a value\n",
      "\n",
      "\u001b[1;31m---------------------------------------------------------------------------\u001b[0m\n",
      "\u001b[1;31mUnboundLocalError\u001b[0m                         Traceback (most recent call last)\n",
      "\u001b[1;31mUnboundLocalError\u001b[0m: cannot access local variable 'fig' where it is not associated with a value\n",
      "\n",
      "\u001b[1;31m---------------------------------------------------------------------------\u001b[0m\n",
      "\u001b[1;31mUnboundLocalError\u001b[0m                         Traceback (most recent call last)\n",
      "\u001b[1;31mUnboundLocalError\u001b[0m: cannot access local variable 'fig' where it is not associated with a value\n",
      "\n",
      "\u001b[1;31m---------------------------------------------------------------------------\u001b[0m\n",
      "\u001b[1;31mUnboundLocalError\u001b[0m                         Traceback (most recent call last)\n",
      "\u001b[1;31mUnboundLocalError\u001b[0m: cannot access local variable 'fig' where it is not associated with a value\n",
      "\n",
      "\u001b[1;31m---------------------------------------------------------------------------\u001b[0m\n",
      "\u001b[1;31mUnboundLocalError\u001b[0m                         Traceback (most recent call last)\n",
      "\u001b[1;31mUnboundLocalError\u001b[0m: cannot access local variable 'fig' where it is not associated with a value\n",
      "\n",
      "\u001b[1;31m---------------------------------------------------------------------------\u001b[0m\n",
      "\u001b[1;31mUnboundLocalError\u001b[0m                         Traceback (most recent call last)\n",
      "\u001b[1;31mUnboundLocalError\u001b[0m: cannot access local variable 'fig' where it is not associated with a value\n",
      "\n",
      "\u001b[1;31m---------------------------------------------------------------------------\u001b[0m\n",
      "\u001b[1;31mUnboundLocalError\u001b[0m                         Traceback (most recent call last)\n",
      "\u001b[1;31mUnboundLocalError\u001b[0m: cannot access local variable 'fig' where it is not associated with a value\n",
      "\n",
      "\u001b[1;31m---------------------------------------------------------------------------\u001b[0m\n",
      "\u001b[1;31mUnboundLocalError\u001b[0m                         Traceback (most recent call last)\n",
      "\u001b[1;31mUnboundLocalError\u001b[0m: cannot access local variable 'fig' where it is not associated with a value\n",
      "\n",
      "\u001b[1;31m---------------------------------------------------------------------------\u001b[0m\n",
      "\u001b[1;31mUnboundLocalError\u001b[0m                         Traceback (most recent call last)\n",
      "\u001b[1;31mUnboundLocalError\u001b[0m: cannot access local variable 'fig' where it is not associated with a value\n",
      "\n",
      "\u001b[1;31m---------------------------------------------------------------------------\u001b[0m\n",
      "\u001b[1;31mUnboundLocalError\u001b[0m                         Traceback (most recent call last)\n",
      "\u001b[1;31mUnboundLocalError\u001b[0m: cannot access local variable 'fig' where it is not associated with a value\n",
      "\n",
      "\u001b[1;31m---------------------------------------------------------------------------\u001b[0m\n",
      "\u001b[1;31mUnboundLocalError\u001b[0m                         Traceback (most recent call last)\n",
      "\u001b[1;31mUnboundLocalError\u001b[0m: cannot access local variable 'fig' where it is not associated with a value\n",
      "\n",
      "\u001b[1;31m---------------------------------------------------------------------------\u001b[0m\n",
      "\u001b[1;31mUnboundLocalError\u001b[0m                         Traceback (most recent call last)\n",
      "\u001b[1;31mUnboundLocalError\u001b[0m: cannot access local variable 'fig' where it is not associated with a value\n",
      "\n",
      "\u001b[1;31m---------------------------------------------------------------------------\u001b[0m\n",
      "\u001b[1;31mUnboundLocalError\u001b[0m                         Traceback (most recent call last)\n",
      "\u001b[1;31mUnboundLocalError\u001b[0m: cannot access local variable 'fig' where it is not associated with a value\n",
      "\n",
      "\u001b[1;31m---------------------------------------------------------------------------\u001b[0m\n",
      "\u001b[1;31mUnboundLocalError\u001b[0m                         Traceback (most recent call last)\n",
      "\u001b[1;31mUnboundLocalError\u001b[0m: cannot access local variable 'fig' where it is not associated with a value\n",
      "\n"
     ]
    }
   ],
   "source": [
    "# Reference: \n",
    "# https://app.datacamp.com/learn/courses/building-dashboards-with-dash-and-plotly\n",
    "\n",
    "# Create an app object\n",
    "app = Dash(__name__)\n",
    "app.layout = html.Div([\n",
    "    # 輸入文字檔的地方\n",
    "    dcc.Input(\n",
    "        id='my_input',\n",
    "        type='text',\n",
    "        placeholder=\"Enter your text\",\n",
    "        debounce=True),\n",
    "    \n",
    "    # 用日曆選日期的地方，最小設今天日期，最大設一年後\n",
    "    dcc.DatePickerRange(\n",
    "        id='my-date-picker-range',\n",
    "        min_date_allowed=datetime.now(),\n",
    "        max_date_allowed=datetime.now()+timedelta(days=365),\n",
    "        initial_visible_month=datetime.now(),\n",
    "    ),\n",
    "    \n",
    "    # 輸出圖片的地方\n",
    "    html.Div(dcc.Graph(id='picture'))\n",
    "])\n",
    "\n",
    "#設定回傳資料\n",
    "@callback(\n",
    "    Output('picture', 'figure'),\n",
    "    Input('my_input', 'value'),\n",
    "    Input('my-date-picker-range', 'start_date'),\n",
    "    Input('my-date-picker-range', 'end_date'))\n",
    "def update_output(my_input, start_date, end_date):\n",
    "    if my_input  and start_date and end_date is not None:\n",
    "\n",
    "        # 把日曆選取的日期轉成booking網址一樣的格式\n",
    "        start_date_object = date.fromisoformat(start_date)\n",
    "        start_date_string = start_date_object.strftime('%Y-%m-%d')\n",
    "        end_date_object = date.fromisoformat(end_date)\n",
    "        end_date_string = end_date_object.strftime('%Y-%m-%d')\n",
    "\n",
    "        # 執行爬蟲\n",
    "        df=booking(my_input, start_date_string, end_date_string)\n",
    "        # Ensure the DataFrame is not overwritten\n",
    "        df_1 = df.copy(deep=True)\n",
    "        df_1 = clean(df_1)\n",
    "        fig = draw(df_1)\n",
    "\n",
    "    return fig\n",
    "\n",
    "\n",
    "# http://127.0.0.1:8050\n",
    "# running the server\n",
    "if __name__ == '__main__':\n",
    "    app.run_server(debug=True)"
   ]
  }
 ],
 "metadata": {
  "kernelspec": {
   "display_name": "Python 3",
   "language": "python",
   "name": "python3"
  },
  "language_info": {
   "codemirror_mode": {
    "name": "ipython",
    "version": 3
   },
   "file_extension": ".py",
   "mimetype": "text/x-python",
   "name": "python",
   "nbconvert_exporter": "python",
   "pygments_lexer": "ipython3",
   "version": "3.12.0"
  }
 },
 "nbformat": 4,
 "nbformat_minor": 2
}
