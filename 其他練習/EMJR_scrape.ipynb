{
  "nbformat": 4,
  "nbformat_minor": 0,
  "metadata": {
    "colab": {
      "provenance": []
    },
    "kernelspec": {
      "name": "python3",
      "display_name": "Python 3"
    },
    "language_info": {
      "name": "python"
    }
  },
  "cells": [
    {
      "cell_type": "code",
      "source": [
        "!pip install user_agent"
      ],
      "metadata": {
        "colab": {
          "base_uri": "https://localhost:8080/"
        },
        "id": "PcS6odAUw4u1",
        "outputId": "21ca26b2-496f-4393-8ee1-1d01b1315d4f"
      },
      "execution_count": null,
      "outputs": [
        {
          "output_type": "stream",
          "name": "stdout",
          "text": [
            "Collecting user_agent\n",
            "  Downloading user_agent-0.1.10.tar.gz (20 kB)\n",
            "  Preparing metadata (setup.py) ... \u001b[?25l\u001b[?25hdone\n",
            "Requirement already satisfied: six in /usr/local/lib/python3.10/dist-packages (from user_agent) (1.16.0)\n",
            "Building wheels for collected packages: user_agent\n",
            "  Building wheel for user_agent (setup.py) ... \u001b[?25l\u001b[?25hdone\n",
            "  Created wheel for user_agent: filename=user_agent-0.1.10-py3-none-any.whl size=18966 sha256=f0eda233ddafa35641321d88cd0d557e42d68e804d42159a670bdd0b75fb23aa\n",
            "  Stored in directory: /root/.cache/pip/wheels/69/29/26/1956a891a058037774285ee79ab5c3ecf034dba50a4198fedd\n",
            "Successfully built user_agent\n",
            "Installing collected packages: user_agent\n",
            "Successfully installed user_agent-0.1.10\n"
          ]
        }
      ]
    },
    {
      "cell_type": "code",
      "source": [
        "import pandas as pd\n",
        "import requests\n",
        "import time\n",
        "from bs4 import BeautifulSoup\n",
        "from datetime import datetime\n",
        "from user_agent import generate_user_agent"
      ],
      "metadata": {
        "id": "JTjwh1x9Z-9q"
      },
      "execution_count": null,
      "outputs": []
    },
    {
      "cell_type": "code",
      "source": [
        "def crawler(url):\n",
        "    time.sleep(1)\n",
        "    # 製作對網頁請求的假資料，如：假裝是IOS手機、Android手機、mac瀏覽器、desktop\n",
        "    user_agent = generate_user_agent(device_type='desktop')\n",
        "    # 代理 ip\n",
        "    # proxies = {\n",
        "    #   'http': '123.205.24.240:80',\n",
        "    # }\n",
        "    # headers\n",
        "    headers={\n",
        "        'accept': 'text/html,application/xhtml+xml,application/xml;q=0.9,image/avif,image/webp,image/apng,*/*;q=0.8,application/signed-exchange;v=b3;q=0.7',\n",
        "        'accept-encoding': 'gzip, deflate, br',\n",
        "        'accept-language': 'zh-TW,zh;q=0.9,en-US;q=0.8,en;q=0.7,',\n",
        "        'sec-ch-ua': '\"Google Chrome\";v=\"111\", \"Not(A:Brand\";v=\"8\", \"Chromium\";v=\"111\"',\n",
        "        'sec-ch-ua-mobile': '?0',\n",
        "        'sec-ch-ua-platform': 'macOS',\n",
        "        'sec-fetch-dest': 'document',\n",
        "        'sec-fetch-mode': 'navigate',\n",
        "        'sec-fetch-site': 'same-origin',\n",
        "        'sec-fetch-user': '?1',\n",
        "        'upgrade-insecure-requests': '1',\n",
        "        'user-agent': user_agent,\n",
        "    }\n",
        "    #對指定的url連結做請求，並給予假資料\n",
        "    r = requests.get(url, headers=headers, allow_redirects=False)\n",
        "    r.encoding='utf-8'\n",
        "    #將網頁作解析，以利找到所需資料\n",
        "    soup = BeautifulSoup(r.text, 'html.parser')\n",
        "    #回傳整個網頁的解析\n",
        "    return soup\n",
        "\n",
        "# Function to remove tags\n",
        "def remove_tags(html):\n",
        "\n",
        "    # parse html content\n",
        "    soup = BeautifulSoup(html, 'html.parser')\n",
        "    div = soup.find('div', class_ = 'post')\n",
        "    for data in div(['blockquote']):\n",
        "        # Remove tags\n",
        "        data.decompose()\n",
        "\n",
        "    # return data by retrieving the tag content\n",
        "    return \" \".join(div.stripped_strings)"
      ],
      "metadata": {
        "id": "rXNXQRzqyQWG"
      },
      "execution_count": null,
      "outputs": []
    },
    {
      "cell_type": "markdown",
      "source": [
        "![未命名.jpg](data:image/jpeg;base64,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)\n",
        "```\n",
        "from selenium import webdriver\n",
        "from selenium.webdriver.chrome.service import Service as ChromeService\n",
        "from webdriver_manager.chrome import ChromeDriverManager\n",
        "\n",
        "def crawler(url):\n",
        "    time.sleep(1)\n",
        "    driver = webdriver.Chrome(service=ChromeService(ChromeDriverManager().install()))\n",
        "    driver.get(url)\n",
        "    soup = BeautifulSoup(driver.page_source, 'html.parser')\n",
        "    return soup\n",
        "```"
      ],
      "metadata": {
        "id": "kKeibbSu9Y9-"
      }
    },
    {
      "cell_type": "code",
      "source": [
        "url, topic, latest_page, nposts, nviews, votes, n_pos, n_neg = [], [], [], [], [], [], [], []\n",
        "time_str, url_latest_str ,latest_post_id= [], [], []\n",
        "\n",
        "for a in range(2):\n",
        "  if a == 0:\n",
        "    url_main = 'https://www.econjobrumors.com/'\n",
        "  else:\n",
        "    url_main = f'https://www.econjobrumors.com/page/{a+1}'\n",
        "  soup_main = crawler(url_main)\n",
        "  tr = soup_main.find('table', id = 'latest').find_all('tr')\n",
        "\n",
        "  for b in tr[1:]:\n",
        "    for_url = b.find('a').attrs['href']\n",
        "    url.append(for_url)\n",
        "\n",
        "    for_topic = b.find_all('a')[0].text\n",
        "    topic.append(for_topic)\n",
        "\n",
        "    for_latest_page = b.select_one('a.page-numbers:last-of-type')\n",
        "    if for_latest_page != None:\n",
        "      latest_page.append(for_latest_page.text)\n",
        "    else:\n",
        "      latest_page.append('1')\n",
        "\n",
        "    for_nposts = b.find_all('td', class_ = 'num')[0].text\n",
        "    nposts.append(for_nposts)\n",
        "\n",
        "    for_nviews = b.find_all('td', class_ = 'num')[1].text\n",
        "    nviews.append(for_nviews)\n",
        "\n",
        "    for_votes = b.find_all('td', class_ = 'num')[2].text\n",
        "    votes.append(for_votes)\n",
        "    for_votes = for_votes.split('-')\n",
        "    n_pos.append(for_votes[0])\n",
        "    n_neg.append(for_votes[1])\n",
        "\n",
        "    for_time_str = b.find_all('td', class_ = 'num')[3].text\n",
        "    time_str.append(for_time_str)\n",
        "\n",
        "    for_url_latest_str = b.find_all('td', class_ = 'num')[3].find('a').attrs['href']\n",
        "    url_latest_str.append(for_url_latest_str)\n",
        "\n",
        "    for_latest_post_id = for_url_latest_str.rsplit('-', 1)[1]\n",
        "    latest_post_id.append(for_latest_post_id)"
      ],
      "metadata": {
        "id": "FQEgnMvkIFho"
      },
      "execution_count": null,
      "outputs": []
    },
    {
      "cell_type": "code",
      "source": [
        "download_time, title_id1, post1, first_post_time, raw_cat, post_miss, poster_name, poster_id = [], [], [], [], [], [], [], []\n",
        "\n",
        "for c in range(len(url)):\n",
        "  for_download_time = datetime.now()\n",
        "  download_time.append(for_download_time.strftime('%c'))\n",
        "  title_id1.append(c+1)\n",
        "  post1.append(1)\n",
        "  raw_cat.append(topic[c])\n",
        "  poster_name.append('')\n",
        "  poster_id.append('')\n",
        "\n",
        "  if topic[c] != []:\n",
        "    post_miss.append(0)\n",
        "  else:\n",
        "    post_miss.append(1)\n",
        "\n",
        "  #Scraping first post\n",
        "  if int(nposts[c]) > 20:\n",
        "    soup_first = crawler(url[c])\n",
        "    threadpost_first = soup_first.find_all('div', class_ = 'threadpost')\n",
        "    title_id1.append(c+1)\n",
        "    post1.append(2)\n",
        "    if threadpost_first != []:\n",
        "      for_first_post = remove_tags(f'{threadpost_first}')\n",
        "      raw_cat.append(for_first_post)\n",
        "      post_miss.append(0)\n",
        "      for_poster = soup_first.find('div', class_ = 'threadauthor')\n",
        "      poster_name.append(for_poster.find('strong').text)\n",
        "      poster_id.append(for_poster.find('small').text)\n",
        "    else:\n",
        "      raw_cat.append('YH0')\n",
        "      post_miss.append(1)\n",
        "      poster_name.append('None')\n",
        "      poster_id.append('None')\n",
        "\n",
        "  #--------------------------------------------------------------\n",
        "\n",
        "  #Scraping last page\n",
        "  soup_latest = crawler(url_latest_str[c])\n",
        "  threadpost_latest = soup_latest.find_all('div', class_ = 'threadpost')\n",
        "  topicmeta = soup_latest.find_all('ul', class_ = 'topicmeta')\n",
        "  str_first_post_time = f'{topicmeta}'.split('\\r\\n\\t\\t\\r\\n\\t')\n",
        "\n",
        "  if threadpost_latest != []:\n",
        "    first_post_time.append(str_first_post_time[1].split('-')[0])\n",
        "\n",
        "    for d in range(len(threadpost_latest)):\n",
        "      title_id1.append(c+1)\n",
        "\n",
        "      if int(nposts[c]) > 20:\n",
        "        post1.append(d+3)\n",
        "      else:\n",
        "        post1.append(d+2)\n",
        "\n",
        "      for_raw_cat = remove_tags(f'{threadpost_latest[d]}')\n",
        "      if for_raw_cat != '':\n",
        "        raw_cat.append(for_raw_cat)\n",
        "        post_miss.append(0)\n",
        "      else:\n",
        "        raw_cat.append('YH0')\n",
        "        post_miss.append(1)\n",
        "\n",
        "      for_poster = soup_latest.find('div', class_ = 'threadauthor')\n",
        "      poster_name.append(for_poster.find('strong').text)\n",
        "      poster_id.append(for_poster.find('small').text)\n",
        "\n",
        "  else:\n",
        "    first_post_time.append('None')\n",
        "    title_id1.append(c+1)\n",
        "    if int(nposts[c]) > 20:\n",
        "      post1.append(3)\n",
        "    else:\n",
        "      post1.append(2)\n",
        "    raw_cat.append('YH0')\n",
        "    post_miss.append(1)\n",
        "    poster_name.append('None')\n",
        "    poster_id.append('None')\n",
        "\n",
        "  print(c)"
      ],
      "metadata": {
        "id": "BKG4bb-eitOd",
        "colab": {
          "base_uri": "https://localhost:8080/"
        },
        "outputId": "b7bac23e-b56b-4da4-c45f-8a860a8b7745"
      },
      "execution_count": null,
      "outputs": [
        {
          "output_type": "stream",
          "name": "stdout",
          "text": [
            "0\n",
            "1\n",
            "2\n",
            "3\n",
            "4\n",
            "5\n",
            "6\n",
            "7\n",
            "8\n",
            "9\n",
            "10\n",
            "11\n",
            "12\n",
            "13\n",
            "14\n",
            "15\n",
            "16\n",
            "17\n",
            "18\n",
            "19\n",
            "20\n",
            "21\n",
            "22\n",
            "23\n",
            "24\n",
            "25\n",
            "26\n",
            "27\n",
            "28\n",
            "29\n",
            "30\n",
            "31\n",
            "32\n",
            "33\n",
            "34\n",
            "35\n",
            "36\n",
            "37\n",
            "38\n",
            "39\n",
            "40\n",
            "41\n",
            "42\n",
            "43\n",
            "44\n",
            "45\n",
            "46\n",
            "47\n",
            "48\n",
            "49\n",
            "50\n",
            "51\n",
            "52\n",
            "53\n",
            "54\n",
            "55\n",
            "56\n",
            "57\n",
            "58\n",
            "59\n",
            "60\n",
            "61\n",
            "62\n",
            "63\n",
            "64\n",
            "65\n",
            "66\n",
            "67\n",
            "68\n",
            "69\n",
            "70\n",
            "71\n",
            "72\n",
            "73\n",
            "74\n",
            "75\n",
            "76\n",
            "77\n",
            "78\n",
            "79\n",
            "80\n",
            "81\n"
          ]
        }
      ]
    },
    {
      "cell_type": "markdown",
      "source": [
        "csv檔字串被\"\"包住的關鍵是字串裡面有,"
      ],
      "metadata": {
        "id": "NRWceIKOhRwk"
      }
    },
    {
      "cell_type": "code",
      "source": [
        "main_stats_cleaned = pd.DataFrame({\n",
        "    \"url\": url,\n",
        "    \"nposts\": nposts,\n",
        "    \"nviews\": nviews,\n",
        "    \"votes\": votes,\n",
        "    \"topic\": topic,\n",
        "    \"n_pos\": n_pos,\n",
        "    \"n_neg\": n_neg,\n",
        "    \"latest_page\": latest_page,\n",
        "    \"latest_post_id\": latest_post_id,\n",
        "    \"time_str\": time_str})\n",
        "\n",
        "main_stats_cleaned.to_csv('main_stats_cleaned.csv', index = False)"
      ],
      "metadata": {
        "id": "tEk0WphkNGhG"
      },
      "execution_count": null,
      "outputs": []
    },
    {
      "cell_type": "code",
      "source": [
        "EJR0_raw_text_cleaned = pd.DataFrame({\n",
        "    \"title_id1\": title_id1,\n",
        "    \"post1\": post1,\n",
        "    \"raw_cat\": raw_cat,\n",
        "    \"post_miss\": post_miss,\n",
        "    \"poster_name\": poster_name,\n",
        "    \"poster_id\": poster_id})\n",
        "\n",
        "EJR0_raw_text_cleaned.to_csv('EJR0_raw_text_cleaned.csv', index = False)"
      ],
      "metadata": {
        "id": "ZRiLoFU2lv3Y"
      },
      "execution_count": null,
      "outputs": []
    },
    {
      "cell_type": "markdown",
      "source": [
        "---\n",
        "以下都是測試用code"
      ],
      "metadata": {
        "id": "VEmbUiqfnuVT"
      }
    },
    {
      "cell_type": "markdown",
      "source": [
        "https://www.econjobrumors.com/topic/the-upshot-from-the-most-recent-iv-papers/page/2"
      ],
      "metadata": {
        "id": "HSUfCqTfzKGk"
      }
    },
    {
      "cell_type": "code",
      "source": [
        "test_url = 'https://www.econjobrumors.com/topic/the-upshot-from-the-most-recent-iv-papers/page/2'\n",
        "test_soup = crawler(test_url)\n",
        "test_threadpost = test_soup.find_all('div', class_ = 'threadpost')\n",
        "test_rawcat, test_postmiss =[], []\n",
        "for z in test_threadpost:\n",
        "  test_for_rawcat = remove_tags(f'{z}')\n",
        "  if test_for_rawcat != '':\n",
        "    test_rawcat.append(test_for_rawcat)\n",
        "    test_postmiss.append(0)\n",
        "  else:\n",
        "    test_rawcat.append('YH0')\n",
        "    test_postmiss.append(1)"
      ],
      "metadata": {
        "id": "loFpcr7uzJfO"
      },
      "execution_count": null,
      "outputs": []
    },
    {
      "cell_type": "code",
      "source": [
        "test_rawcat"
      ],
      "metadata": {
        "colab": {
          "base_uri": "https://localhost:8080/"
        },
        "id": "ni_MSfEj1nvm",
        "outputId": "375efda3-74ec-4956-e0e4-ca081c019acb"
      },
      "execution_count": null,
      "outputs": [
        {
          "output_type": "execute_result",
          "data": {
            "text/plain": [
              "['With a single instrument, if you have a t=3.16 --> t^2= F of 10.',\n",
              " 'People still use IV? lol what a joke.',\n",
              " 'Chamberlain 1987',\n",
              " 'IV is still ok but you gotta really understand the difference between LATE and ATE',\n",
              " 'Not sure where’s the news. A few years ago my dept tried to hire a guy who is famous for applying the rainfall instrument in a bunch of papers. I asked him to explain the conditions under which all of his specifications were simultaneously valid. He looked at me and he said “that’s not how you do research”.',\n",
              " 'MB? You dodged a bullet there if so.',\n",
              " \"F-stat of 10 is still fine, but you have to adjust your second-stage t-stats if the F-stat is less than ~100. That's the upshot. Lock thread.\",\n",
              " \"Except F stats weren't the main issue to begin with.\",\n",
              " 'lol',\n",
              " 'Like how climate scientists explain rainfall based on economic activity, and economists use rainfall as an instrument for econ outcomes.',\n",
              " 'Based on my experience, most applied economist can’t even run the F test on first stage correctly. They either run the “first-stage” without the exogenous controls or when they look at the joint F-test including the exogenous controls. It is pretty clear they have no idea what they are doing and just work on some fuzzy hearsay on what to do.',\n",
              " \"Applied economist bro here. We're pretty bad at manually running tests (monkey see, monkey do), but when it comes to reporting the F-test, I would guess that most of us use the automated output from ivreg2 etc.\",\n",
              " 'I don’t know what command they used. But based on their presentations it seem like they used the wrong F statistics.',\n",
              " 'DiD forever!',\n",
              " 'Back to the 70s style reg monkeying bros',\n",
              " 'YH0',\n",
              " 'still amazing',\n",
              " 'YH0',\n",
              " \"It's funny because it's true\",\n",
              " 'Another bump is due']"
            ]
          },
          "metadata": {},
          "execution_count": 10
        }
      ]
    },
    {
      "cell_type": "code",
      "source": [
        "#檢查哪些post抓不到\n",
        "for x in range(len(post_miss)):\n",
        "  if post_miss[x] == 1:\n",
        "    print(title_id1[x], post1[x])"
      ],
      "metadata": {
        "id": "pUys59JQn5er"
      },
      "execution_count": null,
      "outputs": []
    },
    {
      "cell_type": "code",
      "source": [
        "#不要刪，這些手動抓\n",
        "for x in range(len(url)):\n",
        "  test = url[x].find('%')\n",
        "  if test != -1:\n",
        "    print( x , url[x])"
      ],
      "metadata": {
        "colab": {
          "base_uri": "https://localhost:8080/"
        },
        "id": "424n9uyhd-1n",
        "outputId": "d9980f24-4f06-44ac-ae26-4b7091cfa47d"
      },
      "execution_count": null,
      "outputs": [
        {
          "output_type": "stream",
          "name": "stdout",
          "text": [
            "7 https://www.econjobrumors.com/topic/it%e2%80%99s-easy-if-you-try\n",
            "8 https://www.econjobrumors.com/topic/china%e2%80%99s-trickle-down-economic-policy-really-destroyed-the-country\n",
            "20 https://www.econjobrumors.com/topic/apple-to-overtake-samsung-as-the-world%e2%80%99s-largest-smartphone-brand\n",
            "45 https://www.econjobrumors.com/topic/%e9%bb%91%e5%a4%8d%e6%97%a6lemon%e7%9a%84%e9%83%bd%e6%98%af%e4%bb%80%e4%b9%88%e4%ba%ba\n",
            "58 https://www.econjobrumors.com/topic/stop-saying-%e2%80%9cmeat-based-plant%e2%80%9d\n",
            "59 https://www.econjobrumors.com/topic/it%e2%80%99s-actually-not-thou-my-surprise-that-lennon-is-gay\n",
            "62 https://www.econjobrumors.com/topic/what-%e4%bb%80%e4%b9%88%e6%98%aflow%e9%80%bc-%e4%bb%80%e4%b9%88%e6%9d%a5%e5%a4%b4\n"
          ]
        }
      ]
    },
    {
      "cell_type": "code",
      "source": [
        "url_test = 'https://web.archive.org/web/20230904160129/https://www.econjobrumors.com/topic/it%e2%80%99s-easy-if-you-try'\n",
        "soup_test = crawler(url_test)\n",
        "threadpost_first_test = soup_test.find_all('div', class_ = 'threadpost')\n",
        "threadpost_first_test\n"
      ],
      "metadata": {
        "id": "obW83hDDn4H2"
      },
      "execution_count": null,
      "outputs": []
    },
    {
      "cell_type": "code",
      "source": [
        "#保留起來，等到解決再刪掉\n",
        "soup_test = crawler('https://www.econjobrumors.com/topic/how-dim-does-one-have-to-be-to-fall-for-%e2%80%9cburning-man%e2%80%9d')\n",
        "threadpost_first_test = soup_test.find_all('div', class_ = 'threadpost')\n",
        "if threadpost_first_test == []:\n",
        "  print('None')\n",
        "else:\n",
        "  pass"
      ],
      "metadata": {
        "id": "zrW2yoIe_oE5"
      },
      "execution_count": null,
      "outputs": []
    },
    {
      "cell_type": "code",
      "source": [
        "content, author = [], []\n",
        "for y in range(len(title)):\n",
        "  soup = crawler(title[y])\n",
        "  stop = False\n",
        "  number = 1\n",
        "  while stop == False:\n",
        "    try:\n",
        "      div = soup.find('div', id = f'position-{number}')\n",
        "\n",
        "      post_content = div.find('div', class_ = 'post').text\n",
        "      content.append(post_content)\n",
        "\n",
        "      post_author = div.find('div', class_ = 'threadauthor').text\n",
        "      author.append(post_author)\n",
        "    except:\n",
        "      if div is None:\n",
        "        stop = True\n",
        "        break\n"
      ],
      "metadata": {
        "id": "4PK7WykzF9Zr"
      },
      "execution_count": null,
      "outputs": []
    },
    {
      "cell_type": "code",
      "source": [
        "soup_test = crawler('https://www.econjobrumors.com/topic/request-a-thread-to-be-deleted-here')\n",
        "posts =\n",
        "content_test, author_test = [], []\n",
        "\n",
        "while stop == False:\n",
        "    div = soup_test.find('div', id = f'position-{number}')\n",
        "\n",
        "    post_content = div.find('div', class_ = 'post').text\n",
        "    content_test.append(post_content)\n",
        "\n",
        "    post_author = div.find('div', class_ = 'threadauthor').text\n",
        "    author_test.append(post_author)\n",
        "    if div == '':\n",
        "       stop = True\n",
        "       break\n",
        "    number += 1\n"
      ],
      "metadata": {
        "colab": {
          "base_uri": "https://localhost:8080/",
          "height": 245
        },
        "id": "EPOW4RixEFAl",
        "outputId": "9de0f9e0-8355-4fe5-afaf-cd37d3aec4bf"
      },
      "execution_count": null,
      "outputs": [
        {
          "output_type": "error",
          "ename": "AttributeError",
          "evalue": "ignored",
          "traceback": [
            "\u001b[0;31m---------------------------------------------------------------------------\u001b[0m",
            "\u001b[0;31mAttributeError\u001b[0m                            Traceback (most recent call last)",
            "\u001b[0;32m<ipython-input-18-741b327aedfe>\u001b[0m in \u001b[0;36m<cell line: 6>\u001b[0;34m()\u001b[0m\n\u001b[1;32m      7\u001b[0m     \u001b[0mdiv\u001b[0m \u001b[0;34m=\u001b[0m \u001b[0msoup_test\u001b[0m\u001b[0;34m.\u001b[0m\u001b[0mfind\u001b[0m\u001b[0;34m(\u001b[0m\u001b[0;34m'div'\u001b[0m\u001b[0;34m,\u001b[0m \u001b[0mid\u001b[0m \u001b[0;34m=\u001b[0m \u001b[0;34mf\"position-{number}\"\u001b[0m\u001b[0;34m)\u001b[0m\u001b[0;34m\u001b[0m\u001b[0;34m\u001b[0m\u001b[0m\n\u001b[1;32m      8\u001b[0m \u001b[0;34m\u001b[0m\u001b[0m\n\u001b[0;32m----> 9\u001b[0;31m     \u001b[0mpost_content\u001b[0m \u001b[0;34m=\u001b[0m \u001b[0mdiv\u001b[0m\u001b[0;34m.\u001b[0m\u001b[0mfind\u001b[0m\u001b[0;34m(\u001b[0m\u001b[0;34m'div'\u001b[0m\u001b[0;34m,\u001b[0m \u001b[0mclass_\u001b[0m \u001b[0;34m=\u001b[0m \u001b[0;34m\"post\"\u001b[0m\u001b[0;34m)\u001b[0m\u001b[0;34m.\u001b[0m\u001b[0mtext\u001b[0m\u001b[0;34m\u001b[0m\u001b[0;34m\u001b[0m\u001b[0m\n\u001b[0m\u001b[1;32m     10\u001b[0m     \u001b[0mcontent_test\u001b[0m\u001b[0;34m.\u001b[0m\u001b[0mappend\u001b[0m\u001b[0;34m(\u001b[0m\u001b[0mpost_content\u001b[0m\u001b[0;34m)\u001b[0m\u001b[0;34m\u001b[0m\u001b[0;34m\u001b[0m\u001b[0m\n\u001b[1;32m     11\u001b[0m \u001b[0;34m\u001b[0m\u001b[0m\n",
            "\u001b[0;31mAttributeError\u001b[0m: 'NoneType' object has no attribute 'find'"
          ]
        }
      ]
    },
    {
      "cell_type": "code",
      "source": [
        "print(div)"
      ],
      "metadata": {
        "id": "0nlJUyltQafY"
      },
      "execution_count": null,
      "outputs": []
    },
    {
      "cell_type": "code",
      "source": [
        "\n",
        "def author_and_post(number):\n",
        "  div = soup.find('div', id = f'position-{number}')\n",
        "  return div\n"
      ],
      "metadata": {
        "id": "AYF-wAVjdi8I"
      },
      "execution_count": null,
      "outputs": []
    },
    {
      "cell_type": "code",
      "source": [
        "def get_article_info(url):\n",
        "  soup = crawler(url)\n",
        "  li = soup.find_all('div', class_= 'threadpost')\n",
        "  content, p_time = [], []\n",
        "  for i in li:\n",
        "    post_content = i.find('div', class_ = 'post').text\n",
        "    content.append(post_content)\n",
        "\n",
        "    post_stuff = i.find('div', class_ = 'poststuff').text\n",
        "    post_time = post_stuff.split('#')\n",
        "    p_time.append(post_time[0])\n",
        "  df = pd.DataFrame({\n",
        "      'content' : content,\n",
        "      'time' : p_time\n",
        "  })\n",
        "  return df\n",
        "\n",
        "def get_author(url):\n",
        "  soup = crawler(url)\n",
        "  lj = soup.find_all('div', class_ = 'threadauthor')\n",
        "  author = []\n",
        "  for j in lj:\n",
        "    post_author = j.find('small').text\n",
        "    author.append(post_author)\n",
        "\n",
        "  df = pd.DataFrame({'author': author })\n",
        "  return df"
      ],
      "metadata": {
        "id": "Q-_fk6rfaAL-"
      },
      "execution_count": null,
      "outputs": []
    }
  ]
}